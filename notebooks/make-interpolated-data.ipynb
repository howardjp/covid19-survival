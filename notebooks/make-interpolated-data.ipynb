{
 "cells": [
  {
   "cell_type": "code",
   "execution_count": 21,
   "id": "bb8d754e-e0e4-486a-a51a-abdb18f3d39e",
   "metadata": {},
   "outputs": [],
   "source": [
    "import bz2\n",
    "import cbor\n",
    "import json\n",
    "import os\n",
    "import pathlib"
   ]
  },
  {
   "cell_type": "code",
   "execution_count": 22,
   "id": "929dde21-eb38-466f-a76a-454f4282bf0c",
   "metadata": {},
   "outputs": [],
   "source": [
    "import numpy as np\n",
    "import pandas as pd\n",
    "import torch"
   ]
  },
  {
   "cell_type": "code",
   "execution_count": 23,
   "id": "808790ab-317a-49be-a2cd-28513d834e39",
   "metadata": {},
   "outputs": [],
   "source": [
    "from tqdm import tqdm"
   ]
  },
  {
   "cell_type": "code",
   "execution_count": 24,
   "id": "be06ea0b-f110-4b09-9817-90739f2f524c",
   "metadata": {},
   "outputs": [],
   "source": [
    "import torchcde"
   ]
  },
  {
   "cell_type": "code",
   "execution_count": 28,
   "id": "fa1e03c3-2cb7-4522-8e22-4df08b52b5dd",
   "metadata": {},
   "outputs": [],
   "source": [
    "def processfile(datafile, outdir, interp = \"cubic\"):\n",
    "    pathlib.Path(outdir).mkdir(parents=True, exist_ok=True)\n",
    "    \n",
    "    with bz2.open(datafile, 'rt', encoding=\"utf-8\") as f:\n",
    "        covid19_data = json.load(f)\n",
    "    \n",
    "    index_data = dict()\n",
    "    \n",
    "    time_index = covid19_data['time_index']\n",
    "    time_index_df = pd.DataFrame({'time_index': time_index})\n",
    "    patient_idx = covid19_data['info'].keys()\n",
    "\n",
    "    for patient_id in tqdm(sorted(patient_idx)):\n",
    "        x_array = []\n",
    "        y_array = []\n",
    "\n",
    "        observation_idx = covid19_data['info'][patient_id].keys()\n",
    "        for observation_id in sorted(observation_idx):\n",
    "            duration = covid19_data['outcome'][observation_id]['time']\n",
    "            event = covid19_data['outcome'][observation_id]['outcome']\n",
    "            if duration == 0:\n",
    "                break\n",
    "            y_array.append([duration, event])\n",
    "            x = pd.DataFrame(covid19_data['data'][observation_id]).fillna(value=np.nan)\n",
    "            x = pd.merge_ordered(time_index_df, x, left_on='time_index', right_on=0, fill_method=None)\n",
    "            x = x.drop(['time_index', 0], axis=1)\n",
    "            x = x.to_numpy()\n",
    "            x_mask = (~torch.isnan(torch.Tensor(x))).cumsum(dim=0).cpu()\n",
    "            x = pd.concat([pd.DataFrame(time_index), pd.DataFrame(x), pd.DataFrame(x_mask.numpy())], axis=1).to_numpy()\n",
    "            x_array.append(x)\n",
    "\n",
    "        if len(y_array) != 0:\n",
    "            x_array = torch.Tensor(x_array)\n",
    "            y_array = torch.Tensor(y_array)\n",
    "\n",
    "            if interp == \"linear\":\n",
    "                x_array = torchcde.linear_interpolation_coeffs(x_array)\n",
    "            else:\n",
    "                x_array = torchcde.natural_cubic_coeffs(x_array)\n",
    "\n",
    "            index_data[patient_id] = y_array.numpy().tolist()\n",
    "            with open(pathlib.Path(outdir) / (patient_id + \".json\"), 'wt', encoding=\"utf-8\") as f:\n",
    "                json.dump(x_array.numpy().tolist(), f)\n",
    "                \n",
    "    with open(pathlib.Path(outdir) / \"index.json\", 'wt', encoding=\"utf-8\") as f:\n",
    "        json.dump(index_data, f)"
   ]
  },
  {
   "cell_type": "code",
   "execution_count": 26,
   "id": "44799c62-9015-479a-889c-bd03c66af45c",
   "metadata": {},
   "outputs": [
    {
     "name": "stderr",
     "output_type": "stream",
     "text": [
      "  0%|          | 0/30 [00:00<?, ?it/s]"
     ]
    },
    {
     "name": "stdout",
     "output_type": "stream",
     "text": [
      "Processing file for 30 patients and 12 features with cubic interpolation\n",
      "\n"
     ]
    },
    {
     "name": "stderr",
     "output_type": "stream",
     "text": [
      "100%|██████████| 30/30 [00:19<00:00,  1.56it/s]\n"
     ]
    },
    {
     "name": "stdout",
     "output_type": "stream",
     "text": [
      "Processing file for 30 patients and 12 features with linear interpolation\n",
      "\n"
     ]
    },
    {
     "name": "stderr",
     "output_type": "stream",
     "text": [
      "100%|██████████| 30/30 [00:03<00:00,  8.95it/s]\n"
     ]
    }
   ],
   "source": [
    "for i in [30]:\n",
    "    for j in [12]:\n",
    "        for k in [\"cubic\", \"linear\"]:\n",
    "            print(f\"Processing file for {i} patients and {j} features with {k} interpolation\\n\")\n",
    "            processfile(i, j, k)"
   ]
  },
  {
   "cell_type": "code",
   "execution_count": 29,
   "id": "d1f1b881-6007-41e3-aa10-7767e86d79bb",
   "metadata": {},
   "outputs": [
    {
     "name": "stderr",
     "output_type": "stream",
     "text": [
      "100%|██████████| 995/995 [44:23<00:00,  2.68s/it]  \n"
     ]
    }
   ],
   "source": [
    "datafile = \"../data/simple-0.25-0.05-0.85\" \".json.bz2\"\n",
    "outdir = \"../data/simple-0.25-0.05-0.85-\" + interp\n",
    "processfile(datafile, outdir, \"cubic\")"
   ]
  }
 ],
 "metadata": {
  "kernelspec": {
   "display_name": "Python 3",
   "language": "python",
   "name": "python3"
  },
  "language_info": {
   "codemirror_mode": {
    "name": "ipython",
    "version": 3
   },
   "file_extension": ".py",
   "mimetype": "text/x-python",
   "name": "python",
   "nbconvert_exporter": "python",
   "pygments_lexer": "ipython3",
   "version": "3.9.1"
  }
 },
 "nbformat": 4,
 "nbformat_minor": 5
}
