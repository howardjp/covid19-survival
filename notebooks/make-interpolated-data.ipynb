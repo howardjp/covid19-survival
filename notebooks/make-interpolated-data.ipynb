{
 "cells": [
  {
   "cell_type": "code",
   "execution_count": 1,
   "id": "d2c5360f-7fc1-4c4c-b9e7-90a129f3e78f",
   "metadata": {
    "tags": [
     "parameters"
    ]
   },
   "outputs": [],
   "source": [
    "interp = \"cubic\"\n",
    "datafile = \"../data/abbrev.json.bz2\"\n",
    "outfile = \"../data/interp-abbrev-cubic.json.bz2\""
   ]
  },
  {
   "cell_type": "code",
   "execution_count": 2,
   "id": "afef8f94-6702-47f9-9c80-4aa35d724101",
   "metadata": {},
   "outputs": [],
   "source": [
    "import bz2\n",
    "import json"
   ]
  },
  {
   "cell_type": "code",
   "execution_count": 3,
   "id": "929dde21-eb38-466f-a76a-454f4282bf0c",
   "metadata": {},
   "outputs": [],
   "source": [
    "import numpy as np\n",
    "import pandas as pd\n",
    "import torch"
   ]
  },
  {
   "cell_type": "code",
   "execution_count": 4,
   "id": "808790ab-317a-49be-a2cd-28513d834e39",
   "metadata": {},
   "outputs": [],
   "source": [
    "from tqdm import tqdm"
   ]
  },
  {
   "cell_type": "code",
   "execution_count": 5,
   "id": "be06ea0b-f110-4b09-9817-90739f2f524c",
   "metadata": {},
   "outputs": [],
   "source": [
    "import torchcde"
   ]
  },
  {
   "cell_type": "code",
   "execution_count": 6,
   "id": "fa1e03c3-2cb7-4522-8e22-4df08b52b5dd",
   "metadata": {},
   "outputs": [],
   "source": [
    "def interp_data(file_name, interpolation=\"cubic\"):\n",
    "    with bz2.open(file_name, 'rt', encoding=\"utf-8\") as f:\n",
    "        covid19_data = json.load(f)\n",
    "\n",
    "    interpolation_data = dict()\n",
    "    interpolation_data['xdata'] = dict()\n",
    "    interpolation_data['ydata'] = dict()\n",
    "\n",
    "    time_index = covid19_data['time_index']\n",
    "    time_index_df = pd.DataFrame({'time_index': time_index})\n",
    "    patient_idx = covid19_data['info'].keys()\n",
    "    interpolation_data['patient_list'] = list(patient_idx)\n",
    "\n",
    "    for patient_id in tqdm(sorted(patient_idx)):\n",
    "        x_array = []\n",
    "        y_array = []\n",
    "\n",
    "        observation_idx = covid19_data['info'][patient_id].keys()\n",
    "        for observation_id in sorted(observation_idx):\n",
    "            duration = covid19_data['outcome'][observation_id]['time']\n",
    "            event = covid19_data['outcome'][observation_id]['outcome']\n",
    "            y_array.append([duration, event])\n",
    "            x = pd.DataFrame(covid19_data['data'][observation_id]).fillna(value=np.nan)\n",
    "            x = pd.merge_ordered(time_index_df, x, left_on='time_index', right_on=0, fill_method=None)\n",
    "            x = x.drop(['time_index', 0], axis=1)\n",
    "            x = x.to_numpy()\n",
    "            x_mask = (~torch.isnan(torch.Tensor(x))).cumsum(dim=0).cpu()\n",
    "            x = pd.concat([pd.DataFrame(time_index), pd.DataFrame(x), pd.DataFrame(x_mask.numpy())], axis=1).to_numpy()\n",
    "            x_array.append(x)\n",
    "\n",
    "        x_array = torch.Tensor(x_array)\n",
    "        y_array = torch.Tensor(y_array)\n",
    "\n",
    "        if interpolation == \"linear\":\n",
    "            x_array = torchcde.linear_interpolation_coeffs(x_array)\n",
    "        else:\n",
    "            x_array = torchcde.natural_cubic_coeffs(x_array)\n",
    "\n",
    "        interpolation_data['xdata'][patient_id] = x_array.numpy().tolist()\n",
    "        interpolation_data['ydata'][patient_id] = y_array.numpy().tolist()\n",
    "\n",
    "    return interpolation_data"
   ]
  },
  {
   "cell_type": "code",
   "execution_count": 7,
   "id": "8b7ca566-3086-4731-8dd4-713b2b435326",
   "metadata": {},
   "outputs": [
    {
     "name": "stderr",
     "output_type": "stream",
     "text": [
      "100%|██████████| 30/30 [00:21<00:00,  1.38it/s]\n"
     ]
    }
   ],
   "source": [
    "interp_data = interp_data(datafile, interpolation=interp)"
   ]
  },
  {
   "cell_type": "code",
   "execution_count": 8,
   "id": "b4eca200-d53e-4a22-8c4f-8f0112db85a1",
   "metadata": {},
   "outputs": [],
   "source": [
    "with bz2.open(outfile, 'wt', encoding=\"utf-8\") as f:\n",
    "    json.dump(interp_data, f)"
   ]
  }
 ],
 "metadata": {
  "kernelspec": {
   "display_name": "Python 3",
   "language": "python",
   "name": "python3"
  },
  "language_info": {
   "codemirror_mode": {
    "name": "ipython",
    "version": 3
   },
   "file_extension": ".py",
   "mimetype": "text/x-python",
   "name": "python",
   "nbconvert_exporter": "python",
   "pygments_lexer": "ipython3",
   "version": "3.9.1"
  }
 },
 "nbformat": 4,
 "nbformat_minor": 5
}
